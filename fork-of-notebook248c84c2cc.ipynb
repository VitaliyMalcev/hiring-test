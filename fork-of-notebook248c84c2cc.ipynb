{
 "cells": [
  {
   "cell_type": "code",
   "execution_count": 1,
   "metadata": {
    "execution": {
     "iopub.execute_input": "2020-10-01T22:22:12.655755Z",
     "iopub.status.busy": "2020-10-01T22:22:12.655176Z",
     "iopub.status.idle": "2020-10-01T22:22:20.871008Z",
     "shell.execute_reply": "2020-10-01T22:22:20.870488Z"
    },
    "papermill": {
     "duration": 8.23099,
     "end_time": "2020-10-01T22:22:20.871093",
     "exception": false,
     "start_time": "2020-10-01T22:22:12.640103",
     "status": "completed"
    },
    "tags": []
   },
   "outputs": [
    {
     "name": "stdout",
     "output_type": "stream",
     "text": [
      "Collecting pymystem3\r\n",
      "  Downloading pymystem3-0.2.0-py3-none-any.whl (10 kB)\r\n",
      "Requirement already satisfied: requests in /opt/conda/lib/python3.7/site-packages (from pymystem3) (2.23.0)\r\n",
      "Requirement already satisfied: idna<3,>=2.5 in /opt/conda/lib/python3.7/site-packages (from requests->pymystem3) (2.9)\r\n",
      "Requirement already satisfied: urllib3!=1.25.0,!=1.25.1,<1.26,>=1.21.1 in /opt/conda/lib/python3.7/site-packages (from requests->pymystem3) (1.24.3)\r\n",
      "Requirement already satisfied: chardet<4,>=3.0.2 in /opt/conda/lib/python3.7/site-packages (from requests->pymystem3) (3.0.4)\r\n",
      "Requirement already satisfied: certifi>=2017.4.17 in /opt/conda/lib/python3.7/site-packages (from requests->pymystem3) (2020.6.20)\r\n",
      "Installing collected packages: pymystem3\r\n",
      "Successfully installed pymystem3-0.2.0\r\n"
     ]
    }
   ],
   "source": [
    "!pip install pymystem3"
   ]
  },
  {
   "cell_type": "code",
   "execution_count": 2,
   "metadata": {
    "_cell_guid": "b1076dfc-b9ad-4769-8c92-a6c4dae69d19",
    "_uuid": "8f2839f25d086af736a60e9eeb907d3b93b6e0e5",
    "execution": {
     "iopub.execute_input": "2020-10-01T22:22:20.893265Z",
     "iopub.status.busy": "2020-10-01T22:22:20.892706Z",
     "iopub.status.idle": "2020-10-01T22:22:27.994517Z",
     "shell.execute_reply": "2020-10-01T22:22:27.994108Z"
    },
    "papermill": {
     "duration": 7.114501,
     "end_time": "2020-10-01T22:22:27.994628",
     "exception": false,
     "start_time": "2020-10-01T22:22:20.880127",
     "status": "completed"
    },
    "tags": []
   },
   "outputs": [],
   "source": [
    "import numpy as np \n",
    "import pandas as pd \n",
    "from sklearn.model_selection import train_test_split\n",
    "from sklearn.metrics import roc_auc_score\n",
    "from pymystem3 import Mystem\n",
    "import tensorflow as tf\n",
    "import keras\n",
    "from keras.layers import Dense\n",
    "from keras.models import Sequential\n",
    "from collections import Counter"
   ]
  },
  {
   "cell_type": "code",
   "execution_count": 3,
   "metadata": {
    "_cell_guid": "79c7e3d0-c299-4dcb-8224-4455121ee9b0",
    "_uuid": "d629ff2d2480ee46fbb7e2d37f6b5fab8052498a",
    "execution": {
     "iopub.execute_input": "2020-10-01T22:22:28.020420Z",
     "iopub.status.busy": "2020-10-01T22:22:28.019990Z",
     "iopub.status.idle": "2020-10-01T22:22:41.103341Z",
     "shell.execute_reply": "2020-10-01T22:22:41.102728Z"
    },
    "papermill": {
     "duration": 13.099952,
     "end_time": "2020-10-01T22:22:41.103438",
     "exception": false,
     "start_time": "2020-10-01T22:22:28.003486",
     "status": "completed"
    },
    "tags": []
   },
   "outputs": [],
   "source": [
    "df = pd.read_csv('/kaggle/input/testavito/train.csv')\n",
    "#df = df.sample(10000, random_state = 1234)\n",
    "#df = df.reset_index()\n",
    "#df = df.drop('index', axis=1)"
   ]
  },
  {
   "cell_type": "code",
   "execution_count": 4,
   "metadata": {
    "execution": {
     "iopub.execute_input": "2020-10-01T22:22:41.139800Z",
     "iopub.status.busy": "2020-10-01T22:22:41.139319Z",
     "iopub.status.idle": "2020-10-01T22:22:52.613673Z",
     "shell.execute_reply": "2020-10-01T22:22:52.614013Z"
    },
    "papermill": {
     "duration": 11.49766,
     "end_time": "2020-10-01T22:22:52.614119",
     "exception": false,
     "start_time": "2020-10-01T22:22:41.116459",
     "status": "completed"
    },
    "tags": []
   },
   "outputs": [],
   "source": [
    "#stupid baseline \n",
    "for i in range(10):\n",
    "    df[str(i) +\" count\"] = df['description'].apply(lambda x: x.count(str(i)))"
   ]
  },
  {
   "cell_type": "code",
   "execution_count": 5,
   "metadata": {
    "execution": {
     "iopub.execute_input": "2020-10-01T22:22:52.635875Z",
     "iopub.status.busy": "2020-10-01T22:22:52.635323Z",
     "iopub.status.idle": "2020-10-01T23:02:40.919968Z",
     "shell.execute_reply": "2020-10-01T23:02:40.920657Z"
    },
    "papermill": {
     "duration": 2388.297654,
     "end_time": "2020-10-01T23:02:40.920783",
     "exception": false,
     "start_time": "2020-10-01T22:22:52.623129",
     "status": "completed"
    },
    "tags": []
   },
   "outputs": [
    {
     "name": "stderr",
     "output_type": "stream",
     "text": [
      "Installing mystem to /root/.local/bin/mystem from http://download.cdn.yandex.net/mystem/mystem-3.1-linux-64bit.tar.gz\n"
     ]
    },
    {
     "name": "stdout",
     "output_type": "stream",
     "text": [
      "CPU times: user 9min 52s, sys: 3min 19s, total: 13min 12s\n",
      "Wall time: 39min 48s\n"
     ]
    }
   ],
   "source": [
    "%%time\n",
    "\n",
    "m = Mystem()\n",
    "def lemmatize(text):\n",
    "    return m.lemmatize(text)\n",
    "#    return \"\".join(m.lemmatize(text))\n",
    "\n",
    "\n",
    "df['description'] = df['description'].apply(lemmatize)"
   ]
  },
  {
   "cell_type": "code",
   "execution_count": 6,
   "metadata": {
    "execution": {
     "iopub.execute_input": "2020-10-01T23:02:40.952780Z",
     "iopub.status.busy": "2020-10-01T23:02:40.952181Z",
     "iopub.status.idle": "2020-10-01T23:03:22.099132Z",
     "shell.execute_reply": "2020-10-01T23:03:22.098520Z"
    },
    "papermill": {
     "duration": 41.164757,
     "end_time": "2020-10-01T23:03:22.099211",
     "exception": false,
     "start_time": "2020-10-01T23:02:40.934454",
     "status": "completed"
    },
    "tags": []
   },
   "outputs": [],
   "source": [
    "#stupid baseline 2\n",
    "words = ['один', 'два', 'три', 'четыре', 'пять','шесть',\"семь\", 'восемь', 'девять', 'ноль']\n",
    "for i in words:\n",
    "    df[str(i) +\" count\"] = df['description'].apply(lambda x: x.count(str(i)))\n"
   ]
  },
  {
   "cell_type": "code",
   "execution_count": 7,
   "metadata": {
    "execution": {
     "iopub.execute_input": "2020-10-01T23:03:22.126723Z",
     "iopub.status.busy": "2020-10-01T23:03:22.126074Z",
     "iopub.status.idle": "2020-10-01T23:03:22.970135Z",
     "shell.execute_reply": "2020-10-01T23:03:22.969677Z"
    },
    "papermill": {
     "duration": 0.861369,
     "end_time": "2020-10-01T23:03:22.970214",
     "exception": false,
     "start_time": "2020-10-01T23:03:22.108845",
     "status": "completed"
    },
    "tags": []
   },
   "outputs": [
    {
     "name": "stdout",
     "output_type": "stream",
     "text": [
      "Train 60% (540000, 29)\n",
      "Valid 20% (180000, 29)\n",
      "Test 20% (180000, 29)\n"
     ]
    }
   ],
   "source": [
    "#Разделение выборки\n",
    "train, valid_and_test = train_test_split(df, test_size = 0.4, random_state = 1234)\n",
    "valid, test = train_test_split(valid_and_test, test_size = 0.5, random_state = 1234)\n",
    "valid_and_test= None \n",
    "\n",
    "print(\"Train 60%\", train.shape)\n",
    "print(\"Valid 20%\", valid.shape)\n",
    "print('Test 20%', test.shape)"
   ]
  },
  {
   "cell_type": "code",
   "execution_count": 8,
   "metadata": {
    "execution": {
     "iopub.execute_input": "2020-10-01T23:03:23.018784Z",
     "iopub.status.busy": "2020-10-01T23:03:23.017749Z",
     "iopub.status.idle": "2020-10-01T23:03:23.033317Z",
     "shell.execute_reply": "2020-10-01T23:03:23.032939Z"
    },
    "papermill": {
     "duration": 0.053175,
     "end_time": "2020-10-01T23:03:23.033404",
     "exception": false,
     "start_time": "2020-10-01T23:03:22.980229",
     "status": "completed"
    },
    "tags": []
   },
   "outputs": [],
   "source": [
    "train_features = train.drop(['title','description','subcategory', 'category', 'price', 'region', 'city', 'datetime_submitted'],axis =1)\n",
    "test_features = test.drop(['title','description','subcategory', 'category', 'price', 'region', 'city', 'datetime_submitted'],axis =1)\n",
    "valid_features = valid.drop(['title','description','subcategory', 'category', 'price', 'region', 'city', 'datetime_submitted'],axis =1)\n",
    "\n",
    "train_target = train['is_bad']\n",
    "test_target = test['is_bad']\n",
    "valid_target = valid['is_bad']"
   ]
  },
  {
   "cell_type": "code",
   "execution_count": 9,
   "metadata": {
    "execution": {
     "iopub.execute_input": "2020-10-01T23:03:23.061367Z",
     "iopub.status.busy": "2020-10-01T23:03:23.060932Z",
     "iopub.status.idle": "2020-10-01T23:03:23.279005Z",
     "shell.execute_reply": "2020-10-01T23:03:23.278019Z"
    },
    "papermill": {
     "duration": 0.235682,
     "end_time": "2020-10-01T23:03:23.279093",
     "exception": false,
     "start_time": "2020-10-01T23:03:23.043411",
     "status": "completed"
    },
    "tags": []
   },
   "outputs": [
    {
     "name": "stdout",
     "output_type": "stream",
     "text": [
      "Model: \"sequential\"\n",
      "_________________________________________________________________\n",
      "Layer (type)                 Output Shape              Param #   \n",
      "=================================================================\n",
      "dense (Dense)                (None, 100)               2200      \n",
      "_________________________________________________________________\n",
      "dense_1 (Dense)              (None, 50)                5050      \n",
      "_________________________________________________________________\n",
      "dense_2 (Dense)              (None, 25)                1275      \n",
      "_________________________________________________________________\n",
      "dense_3 (Dense)              (None, 10)                260       \n",
      "_________________________________________________________________\n",
      "dense_4 (Dense)              (None, 1)                 11        \n",
      "=================================================================\n",
      "Total params: 8,796\n",
      "Trainable params: 8,796\n",
      "Non-trainable params: 0\n",
      "_________________________________________________________________\n"
     ]
    }
   ],
   "source": [
    "model = Sequential()\n",
    "model.add(Dense(units = 100 , activation = 'relu' , input_dim = train_features.shape[1]))\n",
    "model.add(Dense(units = 50 , activation = 'relu'))\n",
    "model.add(Dense(units = 25 , activation = 'relu'))\n",
    "model.add(Dense(units = 10 , activation = 'relu'))\n",
    "model.add(Dense(units = 1 , activation = 'sigmoid'))\n",
    "model.compile(optimizer = 'adam' , loss = 'binary_crossentropy' , metrics = ['accuracy'])\n",
    "model.summary()"
   ]
  },
  {
   "cell_type": "code",
   "execution_count": 10,
   "metadata": {
    "execution": {
     "iopub.execute_input": "2020-10-01T23:03:23.306046Z",
     "iopub.status.busy": "2020-10-01T23:03:23.305618Z",
     "iopub.status.idle": "2020-10-02T00:41:48.584240Z",
     "shell.execute_reply": "2020-10-02T00:41:48.583832Z"
    },
    "papermill": {
     "duration": 5905.294644,
     "end_time": "2020-10-02T00:41:48.584332",
     "exception": false,
     "start_time": "2020-10-01T23:03:23.289688",
     "status": "completed"
    },
    "tags": []
   },
   "outputs": [
    {
     "name": "stdout",
     "output_type": "stream",
     "text": [
      "Epoch 1/50\n",
      "540000/540000 [==============================] - 655s 1ms/step - loss: 0.0876 - accuracy: 0.9953 - val_loss: 0.0105 - val_accuracy: 0.9983\n",
      "Epoch 2/50\n",
      "540000/540000 [==============================] - 668s 1ms/step - loss: 0.1618 - accuracy: 0.9954 - val_loss: 0.0437 - val_accuracy: 0.9985\n",
      "Epoch 3/50\n",
      "540000/540000 [==============================] - 651s 1ms/step - loss: 0.1060 - accuracy: 0.9980 - val_loss: 0.0345 - val_accuracy: 0.9994\n",
      "Epoch 4/50\n",
      "540000/540000 [==============================] - 645s 1ms/step - loss: 0.0764 - accuracy: 0.9989 - val_loss: 0.0052 - val_accuracy: 0.9993\n",
      "Epoch 5/50\n",
      "540000/540000 [==============================] - 654s 1ms/step - loss: 0.0850 - accuracy: 0.9985 - val_loss: 0.0209 - val_accuracy: 0.9985\n",
      "Epoch 6/50\n",
      "540000/540000 [==============================] - 650s 1ms/step - loss: 0.0977 - accuracy: 0.9982 - val_loss: 0.0405 - val_accuracy: 0.9988\n",
      "Epoch 7/50\n",
      "540000/540000 [==============================] - 657s 1ms/step - loss: 0.1186 - accuracy: 0.9985 - val_loss: 0.0097 - val_accuracy: 0.9983\n",
      "Epoch 8/50\n",
      "540000/540000 [==============================] - 646s 1ms/step - loss: 0.1234 - accuracy: 0.9987 - val_loss: 0.0176 - val_accuracy: 0.9995\n",
      "Epoch 9/50\n",
      "540000/540000 [==============================] - 649s 1ms/step - loss: 0.1146 - accuracy: 0.9984 - val_loss: 0.0188 - val_accuracy: 0.9968\n"
     ]
    },
    {
     "data": {
      "text/plain": [
       "<tensorflow.python.keras.callbacks.History at 0x7fc0348d3b10>"
      ]
     },
     "execution_count": 10,
     "metadata": {},
     "output_type": "execute_result"
    }
   ],
   "source": [
    "my_callbacks = [ tf.keras.callbacks.EarlyStopping(patience=5)]\n",
    "model.fit(\n",
    "    x=train_features, y=train_target, batch_size=None, epochs=50, verbose=1, callbacks=my_callbacks,\n",
    "    validation_data=(valid_features, valid_target),steps_per_epoch = len(train_target),validation_steps = len(valid_target))\n"
   ]
  },
  {
   "cell_type": "markdown",
   "metadata": {
    "papermill": {
     "duration": 36.400406,
     "end_time": "2020-10-02T00:42:53.996321",
     "exception": false,
     "start_time": "2020-10-02T00:42:17.595915",
     "status": "completed"
    },
    "tags": []
   },
   "source": [
    "тут судя по всему было бы достаточно простой модели:), но пускай будет нейросеть"
   ]
  },
  {
   "cell_type": "code",
   "execution_count": 11,
   "metadata": {
    "execution": {
     "iopub.execute_input": "2020-10-02T00:43:54.206313Z",
     "iopub.status.busy": "2020-10-02T00:43:54.204723Z",
     "iopub.status.idle": "2020-10-02T00:43:54.230914Z",
     "shell.execute_reply": "2020-10-02T00:43:54.230255Z"
    },
    "papermill": {
     "duration": 30.655673,
     "end_time": "2020-10-02T00:43:54.231023",
     "exception": false,
     "start_time": "2020-10-02T00:43:23.575350",
     "status": "completed"
    },
    "tags": []
   },
   "outputs": [],
   "source": [
    "model.save(\"model.h5\")"
   ]
  },
  {
   "cell_type": "code",
   "execution_count": 12,
   "metadata": {
    "execution": {
     "iopub.execute_input": "2020-10-02T00:44:54.729384Z",
     "iopub.status.busy": "2020-10-02T00:44:54.728903Z",
     "iopub.status.idle": "2020-10-02T00:44:57.749779Z",
     "shell.execute_reply": "2020-10-02T00:44:57.750171Z"
    },
    "papermill": {
     "duration": 30.423282,
     "end_time": "2020-10-02T00:44:57.750283",
     "exception": false,
     "start_time": "2020-10-02T00:44:27.327001",
     "status": "completed"
    },
    "tags": []
   },
   "outputs": [],
   "source": [
    "pred = model.predict(test_features)"
   ]
  },
  {
   "cell_type": "code",
   "execution_count": 13,
   "metadata": {
    "execution": {
     "iopub.execute_input": "2020-10-02T00:45:54.479679Z",
     "iopub.status.busy": "2020-10-02T00:45:54.479016Z",
     "iopub.status.idle": "2020-10-02T00:45:54.526024Z",
     "shell.execute_reply": "2020-10-02T00:45:54.525353Z"
    },
    "papermill": {
     "duration": 30.23877,
     "end_time": "2020-10-02T00:45:54.526127",
     "exception": false,
     "start_time": "2020-10-02T00:45:24.287357",
     "status": "completed"
    },
    "tags": []
   },
   "outputs": [
    {
     "name": "stdout",
     "output_type": "stream",
     "text": [
      "roc auc: 0.9998306036379114\n"
     ]
    }
   ],
   "source": [
    "print(\"roc auc:\",roc_auc_score(test_target, pred ))"
   ]
  }
 ],
 "metadata": {
  "kernelspec": {
   "display_name": "Python 3",
   "language": "python",
   "name": "python3"
  },
  "language_info": {
   "codemirror_mode": {
    "name": "ipython",
    "version": 3
   },
   "file_extension": ".py",
   "mimetype": "text/x-python",
   "name": "python",
   "nbconvert_exporter": "python",
   "pygments_lexer": "ipython3",
   "version": "3.7.6"
  },
  "papermill": {
   "duration": 8656.310333,
   "end_time": "2020-10-02T00:46:24.708004",
   "environment_variables": {},
   "exception": null,
   "input_path": "__notebook__.ipynb",
   "output_path": "__notebook__.ipynb",
   "parameters": {},
   "start_time": "2020-10-01T22:22:08.397671",
   "version": "2.1.0"
  }
 },
 "nbformat": 4,
 "nbformat_minor": 4
}
